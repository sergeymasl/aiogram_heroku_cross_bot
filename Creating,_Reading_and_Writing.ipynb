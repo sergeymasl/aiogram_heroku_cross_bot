{
  "nbformat": 4,
  "nbformat_minor": 0,
  "metadata": {
    "colab": {
      "name": "Creating, Reading and Writing.ipynb",
      "provenance": [],
      "collapsed_sections": [],
      "toc_visible": true,
      "authorship_tag": "ABX9TyMhjrWC75gxue8zHl9LGzh8",
      "include_colab_link": true
    },
    "kernelspec": {
      "name": "python3",
      "display_name": "Python 3"
    },
    "language_info": {
      "name": "python"
    }
  },
  "cells": [
    {
      "cell_type": "markdown",
      "metadata": {
        "id": "view-in-github",
        "colab_type": "text"
      },
      "source": [
        "<a href=\"https://colab.research.google.com/github/sergeymasl/aiogram_heroku_cross_bot/blob/main/Creating%2C_Reading_and_Writing.ipynb\" target=\"_parent\"><img src=\"https://colab.research.google.com/assets/colab-badge.svg\" alt=\"Open In Colab\"/></a>"
      ]
    },
    {
      "cell_type": "markdown",
      "source": [
        "# **Creating, Reading and Writing**"
      ],
      "metadata": {
        "id": "DsZCOaqfrC45"
      }
    },
    {
      "cell_type": "markdown",
      "source": [
        "## Вступление\n",
        "В этом мини-курсе вы познакомитесь и изучите основы библиотеки [pandas](https://pandas.pydata.org/), самой популярной библиотеки Python для анализа данных.\n",
        "\n",
        "Во время обучения, вы самостоятельно выполните несколько упражнений на реальных данных. После прочтения блоков курса, рекомендуется выполнять блоки соответствующих упражнений.\n",
        "\n",
        "\n",
        "В этом блоке вы изучете, как создать ваш собственный массив данных и как работать с уже созданными данными."
      ],
      "metadata": {
        "id": "EX0WfS4CrL9p"
      }
    },
    {
      "cell_type": "markdown",
      "source": [
        "## Начало работы\n",
        "\n",
        "При работе с библиотекой pandas, вы, как правило, будете начинать свою работу со следующего кода."
      ],
      "metadata": {
        "id": "nSg7Iuk-s5EZ"
      }
    },
    {
      "cell_type": "code",
      "execution_count": 1,
      "metadata": {
        "id": "tPi9njTlY0zG"
      },
      "outputs": [],
      "source": [
        "import pandas as pd"
      ]
    },
    {
      "cell_type": "markdown",
      "source": [
        "## Создание фрейма данных\n",
        "\n",
        "В библиотеке Pandas есть два ключевых объекта: **DataFrame** и **Series**"
      ],
      "metadata": {
        "id": "_WMSfloMufsw"
      }
    },
    {
      "cell_type": "markdown",
      "source": [
        "### DataFrame\n",
        "\n",
        "Говоря простыми словами DataFrame это таблица. Он содержит"
      ],
      "metadata": {
        "id": "az2em-UQu1Ax"
      }
    },
    {
      "cell_type": "code",
      "source": [
        ""
      ],
      "metadata": {
        "id": "M3-h1H1HufKp"
      },
      "execution_count": null,
      "outputs": []
    }
  ]
}